{
 "cells": [
  {
   "cell_type": "markdown",
   "metadata": {},
   "source": [
    "### Pandas Expanding and Rolling"
   ]
  },
  {
   "cell_type": "code",
   "execution_count": 4,
   "metadata": {},
   "outputs": [],
   "source": [
    "import pandas as pd\n",
    "import numpy as np\n",
    "%matplotlib inline"
   ]
  },
  {
   "cell_type": "code",
   "execution_count": 5,
   "metadata": {},
   "outputs": [],
   "source": [
    "#windows는 시계열 분석에 자주 활용됨\n",
    "s = pd.Series(np.random.randn(1000),\n",
    "                index=pd.date_range('1/1/2016', periods=1000))\n",
    "#plot으로 시각화할 때는 metplotlib해줘야 그래프 표시됨\n",
    "#이 단계에서 plot을 보면 random하게 생성됨"
   ]
  },
  {
   "cell_type": "code",
   "execution_count": 6,
   "metadata": {},
   "outputs": [
    {
     "data": {
      "text/plain": [
       "<matplotlib.axes._subplots.AxesSubplot at 0x18f7fb09278>"
      ]
     },
     "execution_count": 6,
     "metadata": {},
     "output_type": "execute_result"
    },
    {
     "data": {
      "image/png": "[encoded data removed]",
      "text/plain": [
       "<Figure size 432x288 with 1 Axes>"
      ]
     },
     "metadata": {
      "needs_background": "light"
     },
     "output_type": "display_data"
    }
   ],
   "source": [
    "s = s.cumsum()\n",
    "s.plot()\n",
    "#누적된 값에 따라 그래프 생성됨"
   ]
  },
  {
   "cell_type": "code",
   "execution_count": 7,
   "metadata": {},
   "outputs": [
    {
     "data": {
      "text/plain": [
       "2016-01-01          NaN\n",
       "2016-01-02          NaN\n",
       "2016-01-03          NaN\n",
       "2016-01-04          NaN\n",
       "2016-01-05          NaN\n",
       "2016-01-06          NaN\n",
       "2016-01-07          NaN\n",
       "2016-01-08          NaN\n",
       "2016-01-09          NaN\n",
       "2016-01-10          NaN\n",
       "2016-01-11          NaN\n",
       "2016-01-12          NaN\n",
       "2016-01-13          NaN\n",
       "2016-01-14          NaN\n",
       "2016-01-15          NaN\n",
       "2016-01-16          NaN\n",
       "2016-01-17          NaN\n",
       "2016-01-18          NaN\n",
       "2016-01-19          NaN\n",
       "2016-01-20          NaN\n",
       "2016-01-21          NaN\n",
       "2016-01-22          NaN\n",
       "2016-01-23          NaN\n",
       "2016-01-24          NaN\n",
       "2016-01-25          NaN\n",
       "2016-01-26          NaN\n",
       "2016-01-27          NaN\n",
       "2016-01-28          NaN\n",
       "2016-01-29          NaN\n",
       "2016-01-30    -2.323224\n",
       "                ...    \n",
       "2018-08-28   -10.000153\n",
       "2018-08-29   -10.037552\n",
       "2018-08-30    -9.950728\n",
       "2018-08-31    -9.796026\n",
       "2018-09-01    -9.610150\n",
       "2018-09-02    -9.446951\n",
       "2018-09-03    -9.204710\n",
       "2018-09-04    -9.016504\n",
       "2018-09-05    -8.775194\n",
       "2018-09-06    -8.512610\n",
       "2018-09-07    -8.285928\n",
       "2018-09-08    -8.045417\n",
       "2018-09-09    -7.692395\n",
       "2018-09-10    -7.423716\n",
       "2018-09-11    -7.153021\n",
       "2018-09-12    -6.728538\n",
       "2018-09-13    -6.326408\n",
       "2018-09-14    -5.915302\n",
       "2018-09-15    -5.527122\n",
       "2018-09-16    -5.093112\n",
       "2018-09-17    -4.704763\n",
       "2018-09-18    -4.322330\n",
       "2018-09-19    -3.933894\n",
       "2018-09-20    -3.561396\n",
       "2018-09-21    -3.074368\n",
       "2018-09-22    -2.645687\n",
       "2018-09-23    -2.233389\n",
       "2018-09-24    -1.896676\n",
       "2018-09-25    -1.571059\n",
       "2018-09-26    -1.241203\n",
       "Freq: D, Length: 1000, dtype: float64"
      ]
     },
     "execution_count": 7,
     "metadata": {},
     "output_type": "execute_result"
    }
   ],
   "source": [
    "r = s.rolling(window = 30)\n",
    "r.mean()\n",
    "#window의 사이즈만큼 값을 이동시킴\n",
    "#rolling의 여러 키로 4분위수, 표준편차, 평균, 왜도, 첨도 등 통계적 수치 구할 수 있음\n",
    "#clearoutput으로 결과 제거할 수 있음"
   ]
  },
  {
   "cell_type": "code",
   "execution_count": 8,
   "metadata": {},
   "outputs": [
    {
     "ename": "SyntaxError",
     "evalue": "invalid syntax (<ipython-input-8-24ad190539cb>, line 2)",
     "output_type": "error",
     "traceback": [
      "\u001b[1;36m  File \u001b[1;32m\"<ipython-input-8-24ad190539cb>\"\u001b[1;36m, line \u001b[1;32m2\u001b[0m\n\u001b[1;33m    .plot(style = 'k--')\u001b[0m\n\u001b[1;37m    ^\u001b[0m\n\u001b[1;31mSyntaxError\u001b[0m\u001b[1;31m:\u001b[0m invalid syntax\n"
     ]
    }
   ],
   "source": [
    "# 이동평균\n",
    ".plot(style = 'k--')\n",
    "r.mean().plot(style = 'k')\n",
    "#추세선이 표시됨 \n",
    "#위에서 그린 추세선과 같은 그래프 (스타일만 바꿔줌)\n",
    "#window값을 60에서 30으로 변경해주면 뒷 추세선을 보다 근접하게 맞춰줄 수 있음"
   ]
  },
  {
   "cell_type": "code",
   "execution_count": null,
   "metadata": {},
   "outputs": [],
   "source": [
    "df = pd.DataFrame(np.random.randn(1000, 4),\n",
    "\n",
    "                  index=pd.date_range('1/1/2016', periods=1000),\n",
    "\n",
    "                  columns=['A', 'B', 'C', 'D'])"
   ]
  },
  {
   "cell_type": "code",
   "execution_count": 6,
   "metadata": {},
   "outputs": [
    {
     "ename": "NameError",
     "evalue": "name 'df' is not defined",
     "output_type": "error",
     "traceback": [
      "\u001b[1;31m---------------------------------------------------------------------------\u001b[0m",
      "\u001b[1;31mNameError\u001b[0m                                 Traceback (most recent call last)",
      "\u001b[1;32m<ipython-input-6-a60998d38650>\u001b[0m in \u001b[0;36m<module>\u001b[1;34m\u001b[0m\n\u001b[1;32m----> 1\u001b[1;33m \u001b[0mdf\u001b[0m \u001b[1;33m=\u001b[0m \u001b[0mdf\u001b[0m\u001b[1;33m.\u001b[0m\u001b[0mcumsum\u001b[0m\u001b[1;33m(\u001b[0m\u001b[1;33m)\u001b[0m\u001b[1;33m\u001b[0m\u001b[1;33m\u001b[0m\u001b[0m\n\u001b[0m\u001b[0;32m      2\u001b[0m \u001b[0mdf\u001b[0m\u001b[1;33m.\u001b[0m\u001b[0mplot\u001b[0m\u001b[1;33m(\u001b[0m\u001b[1;33m)\u001b[0m\u001b[1;33m\u001b[0m\u001b[1;33m\u001b[0m\u001b[0m\n\u001b[0;32m      3\u001b[0m \u001b[0mdf\u001b[0m\u001b[1;33m.\u001b[0m\u001b[0mrolling\u001b[0m\u001b[1;33m(\u001b[0m\u001b[0mwindow\u001b[0m \u001b[1;33m=\u001b[0m \u001b[1;36m60\u001b[0m\u001b[1;33m)\u001b[0m\u001b[1;33m.\u001b[0m\u001b[0msum\u001b[0m\u001b[1;33m(\u001b[0m\u001b[1;33m)\u001b[0m\u001b[1;33m.\u001b[0m\u001b[0mplot\u001b[0m\u001b[1;33m(\u001b[0m\u001b[0msubplots\u001b[0m \u001b[1;33m=\u001b[0m \u001b[1;32mTrue\u001b[0m\u001b[1;33m)\u001b[0m\u001b[1;33m\u001b[0m\u001b[1;33m\u001b[0m\u001b[0m\n\u001b[0;32m      4\u001b[0m \u001b[1;31m#window size를 지정해준 뒤 그 값만큼 값을 이동시켜줘서 통계수치를 구함\u001b[0m\u001b[1;33m\u001b[0m\u001b[1;33m\u001b[0m\u001b[1;33m\u001b[0m\u001b[0m\n\u001b[0;32m      5\u001b[0m \u001b[1;31m#데이터프레임\u001b[0m\u001b[1;33m\u001b[0m\u001b[1;33m\u001b[0m\u001b[1;33m\u001b[0m\u001b[0m\n",
      "\u001b[1;31mNameError\u001b[0m: name 'df' is not defined"
     ]
    }
   ],
   "source": [
    "df = df.cumsum()\n",
    "df.plot()\n",
    "df.rolling(window = 60).sum().plot(subplots = True)\n",
    "#window size를 지정해준 뒤 그 값만큼 값을 이동시켜줘서 통계수치를 구함\n",
    "#데이터프레임\n",
    "#값이 A,B,C,D로 네 개이므로 그래프도 4가지 모두 그려짐 (모두 랜덤)"
   ]
  },
  {
   "cell_type": "code",
   "execution_count": null,
   "metadata": {},
   "outputs": [],
   "source": [
    "df.rolling(window=len(df), min_periods=1).mean().plot()\n",
    "#expanding은 누적해서 값을 사용함\n",
    "#mean 자리에 여러 통계값을 넣어 계산해줄 수 있음"
   ]
  },
  {
   "cell_type": "code",
   "execution_count": null,
   "metadata": {},
   "outputs": [],
   "source": [
    "df.expanding(min_periods=1).mean().plot()\n",
    "#rolling 결과값과 비슷"
   ]
  },
  {
   "cell_type": "code",
   "execution_count": null,
   "metadata": {},
   "outputs": [],
   "source": [
    "df.expanding?"
   ]
  },
  {
   "cell_type": "code",
   "execution_count": null,
   "metadata": {},
   "outputs": [],
   "source": [
    "dfe = pd.DataFrame({'B': [0, 1, 2, np.nan, 4]})\n",
    "dfe.plot()\n",
    "#결측치가 하나 있는 데이터 -> plot했을 때 중간에 끊기는 부분이 있음"
   ]
  },
  {
   "cell_type": "code",
   "execution_count": null,
   "metadata": {},
   "outputs": [],
   "source": [
    "dfe.expanding(2).mean().plot()\n",
    "# 누적합계를 가져옴 (sum())\n",
    "# 기타 여러 통계값을 구할 수 있음\n",
    "# https://pandas.pydata.org/pandas-docs/stable/user_guide/computation.html문서 자세히 읽어보기"
   ]
  }
 ],
 "metadata": {
  "kernelspec": {
   "display_name": "Python 3",
   "language": "python",
   "name": "python3"
  },
  "language_info": {
   "codemirror_mode": {
    "name": "ipython",
    "version": 3
   },
   "file_extension": ".py",
   "mimetype": "text/x-python",
   "name": "python",
   "nbconvert_exporter": "python",
   "pygments_lexer": "ipython3",
   "version": "3.7.3"
  }
 },
 "nbformat": 4,
 "nbformat_minor": 4
}
