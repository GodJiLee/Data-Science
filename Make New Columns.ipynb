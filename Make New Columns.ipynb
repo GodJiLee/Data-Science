{
 "cells": [
  {
   "cell_type": "code",
   "execution_count": null,
   "metadata": {},
   "outputs": [],
   "source": [
    "#새로운 column을 만드는 실습\n",
    "import pandas as pd\n",
    "import numpy as np"
   ]
  },
  {
   "cell_type": "code",
   "execution_count": null,
   "metadata": {},
   "outputs": [],
   "source": [
    "df = pd.DataFrame({'A' : range(1, 11), 'B' : np.random.randn(10)})\n",
    "df\n",
    "#A열에는 1~10까지의 값이, B열에는 값이 랜덤하게 들어감 "
   ]
  },
  {
   "cell_type": "code",
   "execution_count": null,
   "metadata": {},
   "outputs": [],
   "source": [
    "df.assign(ln_A = lambda x : np.log(x.A)).head()\n",
    "#ln_A의 A값에 로그를 씌워서 새로운 값을 만들어 줌\n",
    "#미리보기 하고 싶을 때는 .head()"
   ]
  },
  {
   "cell_type": "code",
   "execution_count": null,
   "metadata": {},
   "outputs": [],
   "source": [
    "df[\"ln_A\"] = np.log(df.A)\n",
    "df\n",
    "#위와 같은 결과값을 내는 다른 방법\n",
    "#새로운 column을 직접 지정해서 만드는 방법"
   ]
  },
  {
   "cell_type": "code",
   "execution_count": null,
   "metadata": {},
   "outputs": [],
   "source": [
    "pd.qcut(df.B, 2, labels=[\"good\", \"bad\"])\n",
    "#n개의 bucket 수만큼 빈 column을 만들라는 명령\n",
    "#5개의 리스트 값을 가지고 와서 3개의 bucket을 만들어줌\n",
    "#숫자형 데이터를 카테고리컬한 데이터로 변형해줄 때 사용함"
   ]
  },
  {
   "cell_type": "code",
   "execution_count": null,
   "metadata": {},
   "outputs": [],
   "source": [
    "df.max(axis = 0)\n",
    "#axis = 1 : 해당 column에서 최대값을 가져옴\n",
    "#axis = 2 : 해당 row에서 최대값을 가져옴"
   ]
  },
  {
   "cell_type": "code",
   "execution_count": null,
   "metadata": {},
   "outputs": [],
   "source": [
    "df.min(axis = 1)\n",
    "#최소값을 가져옴\n",
    "#나머지는 max와 동일"
   ]
  },
  {
   "cell_type": "code",
   "execution_count": null,
   "metadata": {},
   "outputs": [],
   "source": [
    "df[\"B\"].clip(lower = -1, upper = 5)\n",
    "#-1에서 5까지의 값으로 바꿔줌\n",
    "#low값과 up값과 같은 임계치를 지정해줌"
   ]
  },
  {
   "cell_type": "code",
   "execution_count": null,
   "metadata": {},
   "outputs": [],
   "source": [
    "df[\"B\"].abs()\n",
    "#절댓값 명령어 abs()"
   ]
  },
  {
   "cell_type": "markdown",
   "metadata": {},
   "source": [
    "### apply(function)"
   ]
  },
  {
   "cell_type": "code",
   "execution_count": null,
   "metadata": {},
   "outputs": [],
   "source": []
  }
 ],
 "metadata": {
  "kernelspec": {
   "display_name": "Python 3",
   "language": "python",
   "name": "python3"
  },
  "language_info": {
   "codemirror_mode": {
    "name": "ipython",
    "version": 3
   },
   "file_extension": ".py",
   "mimetype": "text/x-python",
   "name": "python",
   "nbconvert_exporter": "python",
   "pygments_lexer": "ipython3",
   "version": "3.7.3"
  }
 },
 "nbformat": 4,
 "nbformat_minor": 4
}
