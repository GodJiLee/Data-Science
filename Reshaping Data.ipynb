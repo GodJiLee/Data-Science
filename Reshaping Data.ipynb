{
 "cells": [
  {
   "cell_type": "markdown",
   "metadata": {},
   "source": [
    "### Reshaping Data"
   ]
  },
  {
   "cell_type": "code",
   "execution_count": null,
   "metadata": {},
   "outputs": [],
   "source": [
    "import pandas as pd\n",
    "import seaborn as sns\n",
    "#seaborn : 시각화 데이터 툴"
   ]
  },
  {
   "cell_type": "code",
   "execution_count": null,
   "metadata": {},
   "outputs": [],
   "source": [
    "df = sns.load_dataset(\"mpg\")\n",
    "df.shape"
   ]
  },
  {
   "cell_type": "code",
   "execution_count": null,
   "metadata": {},
   "outputs": [],
   "source": [
    "df.head()\n",
    "#자동차와 관련된 dataset "
   ]
  },
  {
   "cell_type": "code",
   "execution_count": null,
   "metadata": {},
   "outputs": [],
   "source": [
    "df.sort_values('mpg')\n",
    "#정렬의 기준으로 삼고싶은 데이터를 ''안에 지정"
   ]
  },
  {
   "cell_type": "code",
   "execution_count": null,
   "metadata": {},
   "outputs": [],
   "source": [
    "df.sort_values('mpg',ascending=False).head()\n",
    "#위 코드와 같은데 역순으로 정렬하는 것(ascending = False)"
   ]
  },
  {
   "cell_type": "code",
   "execution_count": null,
   "metadata": {},
   "outputs": [],
   "source": [
    "df = df.rename(columns = {'model_year':'year'})\n",
    "#axis로 행, 열 축 지정 가능, ascending으로 순차정렬\n",
    "#inplace으로 정렬 결과를 저장할 것인지, kind로 어떤 sort방법을 이용할 건지\n",
    "#na는 결측치를 어떻게 다룰 건지 지정 가능\n",
    "#column이름이 변경되었을 때 따로 저장하지 않으면 다시 df불러올 때 원래 model_year로 불러옴"
   ]
  },
  {
   "cell_type": "code",
   "execution_count": null,
   "metadata": {},
   "outputs": [],
   "source": [
    "df"
   ]
  },
  {
   "cell_type": "code",
   "execution_count": null,
   "metadata": {},
   "outputs": [],
   "source": [
    "df.sort_index().head()\n",
    "#가장 좌측에 index별로 정렬하겠다는 의미 "
   ]
  },
  {
   "cell_type": "code",
   "execution_count": null,
   "metadata": {},
   "outputs": [],
   "source": [
    "df.reset_index().head()\n",
    "#기존 index를 새로 만들고 싶을 때 사용"
   ]
  },
  {
   "cell_type": "code",
   "execution_count": null,
   "metadata": {},
   "outputs": [],
   "source": [
    "df = df.drop(columns=['mpg','year','weight','origin']).head()\n",
    "#지정한 column을 drop시킴 \n",
    "#계속 추가 가능함 \n",
    "#마찬가지로 영구히 반영하려면 df에 저장시켜줘야 함  "
   ]
  },
  {
   "cell_type": "code",
   "execution_count": null,
   "metadata": {},
   "outputs": [],
   "source": [
    "df\n",
    "#영구히 반영되도록 df 지정한 결과"
   ]
  },
  {
   "cell_type": "code",
   "execution_count": null,
   "metadata": {},
   "outputs": [],
   "source": [
    "#시각화, 머신러닝 등 데이터 전처리를 위해 꼭 필요한 부분 실습\n",
    "df = pd.DataFrame({'A': {0: 'a', 1: 'b', 2: 'c'},\n",
    "\n",
    "                   'B': {0: 1, 1: 3, 2: 5},\n",
    "\n",
    "                   'C': {0: 2, 1: 4, 2: 6}})\n",
    "df"
   ]
  },
  {
   "cell_type": "code",
   "execution_count": null,
   "metadata": {},
   "outputs": [],
   "source": [
    "#pd.melt를 통해 data의 column와 row를 옮기는 작업\n",
    "#'녹여본다'라고 표현함 \n",
    "pd.melt(df, value_vars = ['A', 'B', 'C']).rename(columns={\n",
    "'variable' : 'var','value' : 'val'})\n",
    "#columns 이름 변경하고 싶을 때 (rename(columns = {}))"
   ]
  },
  {
   "cell_type": "code",
   "execution_count": null,
   "metadata": {},
   "outputs": [],
   "source": [
    "df2 = pd.DataFrame({'foo' : ['one', 'one', 'one', 'two', 'two', 'two'],\n",
    "                   'bar' : ['A', 'B', 'C', 'A', 'B', 'C'],\n",
    "                   'baz' : [1, 2, 3, 4, 5, 6]})\n",
    "df2"
   ]
  },
  {
   "cell_type": "code",
   "execution_count": null,
   "metadata": {},
   "outputs": [],
   "source": [
    "df3 = df2.pivot(index = 'foo', columns = 'bar', values = 'baz').reset_index()\n",
    "#pivot을 통해 index와 columns, values를 바꾸는 작업\n",
    "#기존 row에 있던 값들을 columns로 바꿔줌 \n",
    "#.reset_index()로 bar, foo를 column 영역으로 이동시켜줌\n",
    "df3"
   ]
  },
  {
   "cell_type": "code",
   "execution_count": null,
   "metadata": {},
   "outputs": [],
   "source": [
    "df3.melt(\n",
    "    id_vars = ['foo'], \n",
    "    value_vars = ['A', 'B', 'C']).sort_values(\n",
    "    ['value', 'foo']).rename(columns = {'values' : 'baz'})\n",
    "#위에서 만든 프레임과 유사한 프레임이 표시됨 \n",
    "#sort_values로 값을 정렬할 기준치 설정 가능함 \n",
    "#list형태로 여러가지도 담을 수 있음 \n",
    "#rename_columns로 이름 재지정 가능\n",
    "#처음에 만들었던 데이터프레임 형태로 pivot을 했다가 melt로 되돌려보는 실습"
   ]
  },
  {
   "cell_type": "code",
   "execution_count": null,
   "metadata": {},
   "outputs": [],
   "source": [
    "df.melt?\n",
    "#pivot 행 데이터를 열로 보내줌\n",
    "#melt 열 데이터를 행으로 보내줌"
   ]
  },
  {
   "cell_type": "code",
   "execution_count": null,
   "metadata": {},
   "outputs": [],
   "source": [
    "#외부데이터, 전처리한 데이터를 가져와서 합쳐줄 때 사용함\n",
    "#새창으로 공식문서 자세하게 보는 법(*)\n",
    "#화면 넓게 보는 법 : view -> 헤더, 툴바 제거하기 \n",
    "pd.concat?"
   ]
  },
  {
   "cell_type": "code",
   "execution_count": null,
   "metadata": {},
   "outputs": [],
   "source": [
    "s1 = pd.Series(['a','b'])\n",
    "s1\n",
    "#리스트형태의 데이터를 시리즈로 감싸서 만들어줌 "
   ]
  },
  {
   "cell_type": "code",
   "execution_count": null,
   "metadata": {},
   "outputs": [],
   "source": [
    "s2 = pd.Series(['c', 'd'])\n",
    "s2"
   ]
  },
  {
   "cell_type": "code",
   "execution_count": null,
   "metadata": {},
   "outputs": [],
   "source": [
    "#s1과 s2를 합쳐주기 위한 작업 (시리즈 2개 합치기)\n",
    "pd.concat([s1, s2], ignore_index = True)\n",
    "#ignore_index로 index값 정리하는 옵션 "
   ]
  },
  {
   "cell_type": "code",
   "execution_count": null,
   "metadata": {},
   "outputs": [],
   "source": [
    "pd.concat([s1, s2], keys = ['s1', 's2'], names = ['Series name', 'Row ID'])\n",
    "#키를 다시 지정함 (데이터프레임의 column명 지정하는 것과 같음)"
   ]
  },
  {
   "cell_type": "code",
   "execution_count": null,
   "metadata": {},
   "outputs": [],
   "source": [
    "df1 = pd.DataFrame([['a', 1], ['b', 2]],\n",
    "\n",
    "                    columns=['letter', 'number'])\n",
    "df1\n",
    "#데이터프레임 생성 "
   ]
  },
  {
   "cell_type": "code",
   "execution_count": null,
   "metadata": {},
   "outputs": [],
   "source": [
    "df2 = pd.DataFrame([['c', 3], ['d', 4]],\n",
    "\n",
    "                   columns=['letter', 'number'])\n",
    "df2"
   ]
  },
  {
   "cell_type": "code",
   "execution_count": null,
   "metadata": {},
   "outputs": [],
   "source": [
    "pd.concat([df1, df2])\n",
    "#df1과 df2 합쳐주기 "
   ]
  },
  {
   "cell_type": "code",
   "execution_count": null,
   "metadata": {},
   "outputs": [],
   "source": [
    "df3 = pd.DataFrame([['c', 3, 'cat'], ['d', 4, 'dog']], #series 데이터 3개씩\n",
    "\n",
    "                   columns=['letter', 'number', 'animal']) #df1과 비교했을 때 animal column이 하나 더 있음 \n",
    "df3"
   ]
  },
  {
   "cell_type": "code",
   "execution_count": null,
   "metadata": {},
   "outputs": [],
   "source": [
    "#데이터 프레임 형태가 다른 두 개의 데이터프레임 합치기\n",
    "#joing = 'inner'라는 옵션을 추가하면 animal column이 없어짐 \n",
    "pd.concat([df1, df3], join = 'inner')"
   ]
  },
  {
   "cell_type": "code",
   "execution_count": null,
   "metadata": {},
   "outputs": [],
   "source": [
    "df4 = pd.DataFrame([['bird', 'polly'], ['monkey', 'george']],\n",
    "\n",
    "                   columns=['animal', 'name'])\n",
    "#Series에서는 names로 column 이름을 재지정해줄 수 있었음\n",
    "#DataFrame에서는 columns를 이용해 재지정 가능함 \n",
    "df4"
   ]
  },
  {
   "cell_type": "code",
   "execution_count": null,
   "metadata": {},
   "outputs": [],
   "source": [
    "df5 = pd.DataFrame([1], index=['a'])\n",
    "df5"
   ]
  },
  {
   "cell_type": "code",
   "execution_count": null,
   "metadata": {},
   "outputs": [],
   "source": [
    "df6 = pd.DataFrame([2], index=['a'])\n",
    "df6"
   ]
  },
  {
   "cell_type": "code",
   "execution_count": null,
   "metadata": {},
   "outputs": [],
   "source": [
    "pd.concat([df5, df6])\n",
    "#verify _integrity = True 옵션을 그대로 쓰면 value-error \n",
    "#-> 합칠 때 중복된 값이 있는지 검증 가능"
   ]
  }
 ],
 "metadata": {
  "kernelspec": {
   "display_name": "Python 3",
   "language": "python",
   "name": "python3"
  },
  "language_info": {
   "codemirror_mode": {
    "name": "ipython",
    "version": 3
   },
   "file_extension": ".py",
   "mimetype": "text/x-python",
   "name": "python",
   "nbconvert_exporter": "python",
   "pygments_lexer": "ipython3",
   "version": "3.7.3"
  }
 },
 "nbformat": 4,
 "nbformat_minor": 4
}
