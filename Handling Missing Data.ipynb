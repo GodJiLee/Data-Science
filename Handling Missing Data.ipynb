{
 "cells": [
  {
   "cell_type": "code",
   "execution_count": null,
   "metadata": {},
   "outputs": [],
   "source": [
    "import pandas as pd\n",
    "import numpy as np\n",
    "#np : python에서 쓰는 대표적인 수치계산 라이브러리 "
   ]
  },
  {
   "cell_type": "code",
   "execution_count": null,
   "metadata": {},
   "outputs": [],
   "source": [
    "df = pd.DataFrame([[np.nan, 2, np.nan, 0],[3, 4, np.nan, 1],\n",
    "                  [np.nan, np.nan, np.nan, 5]],\n",
    "                 columns = list('ABCD'))\n",
    "#Enter 키 누르면 자동 배열됨\n",
    "#결측값 (현실세계의 값은 결측값을 갖는 경우가 많음) \n",
    "#결측치를 어떻게 다루느냐에 따라 분석 결과가 많이 달라짐\n",
    "#dropna로 없애거나 fillna로 채워 사용하기도 함 (의사결정을 해야함)\n",
    "df"
   ]
  },
  {
   "cell_type": "code",
   "execution_count": null,
   "metadata": {},
   "outputs": [],
   "source": [
    "df.dropna(axis = 1, how = 'all')\n",
    "#axis = 1은 column을, 0은 row를 의미\n",
    "#how = 'all'은 전부다 null값일 때 drop시킴 \n",
    "#how = 'any'는 하나라도 null값이 있을 때 drop시킴 \n",
    "#여러 옵션을 배합해서 사용할 수 있음"
   ]
  },
  {
   "cell_type": "code",
   "execution_count": null,
   "metadata": {},
   "outputs": [],
   "source": [
    "df.fillna(0)\n",
    "#결측치를 어떤 값으로 채울 것인지\n",
    "#일괄적으로 채우는 법"
   ]
  },
  {
   "cell_type": "code",
   "execution_count": null,
   "metadata": {},
   "outputs": [],
   "source": [
    "values = {'A' : 0, 'B' : 1, 'C' : 2, 'D' : 3}\n",
    "df.fillna(value = values)\n",
    "#value값을 따로 길게 지정해둔 뒤 변수로 대입해줌"
   ]
  },
  {
   "cell_type": "code",
   "execution_count": null,
   "metadata": {},
   "outputs": [],
   "source": [
    "df['C'].mean()\n",
    "#C열에는 모두 결측치만 있기 때문에 결과값은 na가 나옴\n",
    "#바로 위 명령에서 값을 조건에 맞게 채워줬지만, df에 써주지 않았으므로 반영되지 않음"
   ]
  },
  {
   "cell_type": "code",
   "execution_count": null,
   "metadata": {},
   "outputs": [],
   "source": [
    "fill_na_value = df['D'].max()\n",
    "fill_na_value"
   ]
  },
  {
   "cell_type": "code",
   "execution_count": null,
   "metadata": {},
   "outputs": [],
   "source": [
    "df.fillna((fill_na_value))\n",
    "#채워줄 값을 특정 값(D열의 평균, 중간값, 최대값 등)으로 지정할 수도 있음"
   ]
  },
  {
   "cell_type": "code",
   "execution_count": null,
   "metadata": {},
   "outputs": [],
   "source": [
    "df.isnull().sum()\n",
    "#결측치에 대한 논리값을 추출하는 명령어 df.isnull()\n",
    "#그 논리값의 개수를 세어주는 .sum() (True인 값을 세어줌)"
   ]
  },
  {
   "cell_type": "code",
   "execution_count": null,
   "metadata": {},
   "outputs": [],
   "source": [
    "df.notnull().sum()\n",
    "#우리는 큰 데이터를 다루지 않기 때문에 결측치가 눈으로 가늠이 되지만\n",
    "#그렇지 않은 데이터의 경우에는 이런 연산자들이 유용하게 쓰임"
   ]
  }
 ],
 "metadata": {
  "kernelspec": {
   "display_name": "Python 3",
   "language": "python",
   "name": "python3"
  },
  "language_info": {
   "codemirror_mode": {
    "name": "ipython",
    "version": 3
   },
   "file_extension": ".py",
   "mimetype": "text/x-python",
   "name": "python",
   "nbconvert_exporter": "python",
   "pygments_lexer": "ipython3",
   "version": "3.7.3"
  }
 },
 "nbformat": 4,
 "nbformat_minor": 4
}
