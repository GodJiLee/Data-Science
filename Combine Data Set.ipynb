{
 "cells": [
  {
   "cell_type": "markdown",
   "metadata": {},
   "source": [
    "### Pandas merge"
   ]
  },
  {
   "cell_type": "code",
   "execution_count": null,
   "metadata": {},
   "outputs": [],
   "source": [
    "#이전 강의는 위, 아래로 합치는 방법\n",
    "#이번 강의는 양 옆에 붙이는 방법\n",
    "import pandas as pd"
   ]
  },
  {
   "cell_type": "code",
   "execution_count": null,
   "metadata": {},
   "outputs": [],
   "source": [
    "adf = pd.DataFrame({\"x1\" : [\"A\", \"B\", \"C\"], \"x2\" : [1, 2, 3]})\n",
    "adf\n",
    "#데이터 프레임 adf, bdf 만들기"
   ]
  },
  {
   "cell_type": "code",
   "execution_count": null,
   "metadata": {},
   "outputs": [],
   "source": [
    "bdf = pd.DataFrame({\"x1\" : [\"A\", \"B\", \"D\"], \"x3\" : [\"T\", \"F\", \"T\"]})\n",
    "bdf"
   ]
  },
  {
   "cell_type": "code",
   "execution_count": null,
   "metadata": {},
   "outputs": [],
   "source": [
    "pd.merge(adf, bdf, how = 'left', on = 'x1')\n",
    "#adf가 left, bdf가 right이고 left를 기준으로 merge함\n",
    "#bdf에는 C값이 없기 때문에 NaN으로 표시, D값은 누락시킴 "
   ]
  },
  {
   "cell_type": "code",
   "execution_count": null,
   "metadata": {},
   "outputs": [],
   "source": [
    "pd.merge(adf, bdf, how = 'right', on = 'x1')\n",
    "#이번엔 right로 join함 (how로  조정 가능)\n",
    "#SQL 쿼리에서 join 하는 방식이랑 비슷함 \n",
    "#키 값은 x1\n",
    "#마찬가지로 adf의 C값은 join하지 않음 "
   ]
  },
  {
   "cell_type": "code",
   "execution_count": null,
   "metadata": {},
   "outputs": [],
   "source": [
    "pd.merge(adf, bdf, how = 'inner', on = 'x1')\n",
    "#둘 다 해당되는 값만 merge해줌"
   ]
  },
  {
   "cell_type": "code",
   "execution_count": null,
   "metadata": {},
   "outputs": [],
   "source": [
    "pd.merge(adf, bdf, how = 'outer', on = 'x1')\n",
    "#모든 값들을 가져옴 (없는 값들은 Null값으로 처리함)"
   ]
  },
  {
   "cell_type": "code",
   "execution_count": null,
   "metadata": {},
   "outputs": [],
   "source": [
    "pd.merge?\n",
    "#주로 사용하는 파라미터 : right_on과 index"
   ]
  },
  {
   "cell_type": "code",
   "execution_count": null,
   "metadata": {},
   "outputs": [],
   "source": [
    "adf.x1.isin(bdf.x1)\n",
    "#bdf의 값이 adf에도 있으면 True, 없으면 False로 표시"
   ]
  },
  {
   "cell_type": "code",
   "execution_count": null,
   "metadata": {},
   "outputs": [],
   "source": [
    "adf[adf.x1.isin(bdf.x1)]\n",
    "#논리값으로 표시된 코드를 adf로 묶어주면 adf에 있는 값만 필터링해 가져올 수 있음 "
   ]
  },
  {
   "cell_type": "code",
   "execution_count": null,
   "metadata": {},
   "outputs": [],
   "source": [
    "adf[~adf.x1.isin(bdf.x1)]\n",
    "#~는 제외하고 가져오기 "
   ]
  },
  {
   "cell_type": "code",
   "execution_count": null,
   "metadata": {},
   "outputs": [],
   "source": [
    "ydf = pd.DataFrame({\"x1\" : [\"A\", \"B\", \"C\"], \"x2\" : [1, 2, 3]})\n",
    "ydf"
   ]
  },
  {
   "cell_type": "code",
   "execution_count": null,
   "metadata": {},
   "outputs": [],
   "source": [
    "zdf = pd.DataFrame({\"x1\" : [\"B\", \"C\", \"D\"], \"x2\" : [2, 3, 4]})\n",
    "zdf\n",
    "#ydf와 zdf의 column값은 같음 -> merge는 바로 가능함 "
   ]
  },
  {
   "cell_type": "code",
   "execution_count": null,
   "metadata": {},
   "outputs": [],
   "source": [
    "pd.merge(ydf, zdf)"
   ]
  },
  {
   "cell_type": "code",
   "execution_count": null,
   "metadata": {},
   "outputs": [],
   "source": [
    "pd.merge(ydf, zdf, how='outer')"
   ]
  },
  {
   "cell_type": "code",
   "execution_count": null,
   "metadata": {},
   "outputs": [],
   "source": [
    "pd.merge(ydf, zdf, how = 'outer', indicator = True\n",
    "        ).query('_merge == \"left_only\"'\n",
    "              ).drop(columns=['_merge'])\n",
    "#indicator = True 옵션 : _merge로 값을 보여줌\n",
    "#query옵션 : left_only값만 표시함\n",
    "#drop 옵션 : merge컬럼 드롭"
   ]
  },
  {
   "cell_type": "code",
   "execution_count": null,
   "metadata": {},
   "outputs": [],
   "source": [
    "pd.merge?\n",
    "#how로 어떻게 join할 건지 지정 가능\n",
    "#on으로 키 지정\n",
    "#left_on, right_on으로 좌/우 키를 따로 지정 가능\n",
    "#indicator로 어떻게 join되는지 확인할 수 있음\n",
    "#merge : column 여러개 있을 때 column끼리 합치는 작업에 유용함"
   ]
  }
 ],
 "metadata": {
  "kernelspec": {
   "display_name": "Python 3",
   "language": "python",
   "name": "python3"
  },
  "language_info": {
   "codemirror_mode": {
    "name": "ipython",
    "version": 3
   },
   "file_extension": ".py",
   "mimetype": "text/x-python",
   "name": "python",
   "nbconvert_exporter": "python",
   "pygments_lexer": "ipython3",
   "version": "3.7.3"
  }
 },
 "nbformat": 4,
 "nbformat_minor": 4
}
