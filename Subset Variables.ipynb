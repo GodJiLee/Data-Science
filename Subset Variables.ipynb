{
 "cells": [
  {
   "cell_type": "code",
   "execution_count": null,
   "metadata": {},
   "outputs": [],
   "source": [
    "import pandas as pd\n",
    "import seaborn as sns #시각화 툴 #아나콘다에 기본내장 "
   ]
  },
  {
   "cell_type": "code",
   "execution_count": null,
   "metadata": {},
   "outputs": [],
   "source": [
    "df = sns.load_dataset(\"iris\") #꽃잎 및 꽃받침의 길이 등에 대한 데이터\n",
    "df.head() #미리보기"
   ]
  },
  {
   "cell_type": "code",
   "execution_count": null,
   "metadata": {},
   "outputs": [],
   "source": [
    "columns = ['sepal_width', 'sepal_length', 'species']\n",
    "df[columns] #특정컬럼을 가져옴 \n",
    "#columns를 따로 지정할 수 있음 (여러 개의 columns를 가져오고 싶을 때)"
   ]
  },
  {
   "cell_type": "code",
   "execution_count": null,
   "metadata": {},
   "outputs": [],
   "source": [
    "df['sepal_width'] #특정컬럼 가져오기 \n",
    "#df.sepal_width는 한글, 특수문자 불가능"
   ]
  },
  {
   "cell_type": "code",
   "execution_count": null,
   "metadata": {},
   "outputs": [],
   "source": [
    "df.filter(regex='_') #regex = 정규표현식\n",
    "#해당 조건만 가지고 옴 #species 가져오지 않음"
   ]
  },
  {
   "cell_type": "code",
   "execution_count": null,
   "metadata": {},
   "outputs": [],
   "source": [
    "df.filter(regex = 'es$') #대소문자 구분함\n",
    "#~로 끝나는 문자 : ~$, #~로 시작하는 문자 : ^~\n",
    "#'^x[1-5]$'는 x로 시작하고, 1~5로 끝나는 조건\n",
    "#'^(?!Species$).*' : column에 영문자나 특수문자가 들어잇을 때"
   ]
  },
  {
   "cell_type": "code",
   "execution_count": null,
   "metadata": {},
   "outputs": [],
   "source": [
    "df.filter(regex='^(?!Species$).*')\n",
    "#^는 not의 의미 "
   ]
  },
  {
   "cell_type": "code",
   "execution_count": null,
   "metadata": {},
   "outputs": [],
   "source": [
    "df.loc[2:7,'sepal_length':'petal_width'] \n",
    "#~부터 ~까지의 column, row 지정가능 \n",
    "#끝나는 index까지 포함해서 가져옴"
   ]
  },
  {
   "cell_type": "code",
   "execution_count": null,
   "metadata": {},
   "outputs": [],
   "source": [
    "df.iloc[2:4,[1,3]]\n",
    "#index 순서대로 가져옴\n",
    "#0부터 카운팅해줌 (우리 자료에는 4번재 열까지밖에 없음)\n",
    "#index 전까지 가져옴 (row)"
   ]
  },
  {
   "cell_type": "code",
   "execution_count": null,
   "metadata": {},
   "outputs": [],
   "source": [
    "df.loc[df['sepal_length'] > 5, ['sepal_length','sepal_width']]\n",
    "#,(comma)를 기준으로 행,열 을 가져옴 #원하는 데이터만 가져오기"
   ]
  }
 ],
 "metadata": {
  "kernelspec": {
   "display_name": "Python 3",
   "language": "python",
   "name": "python3"
  },
  "language_info": {
   "codemirror_mode": {
    "name": "ipython",
    "version": 3
   },
   "file_extension": ".py",
   "mimetype": "text/x-python",
   "name": "python",
   "nbconvert_exporter": "python",
   "pygments_lexer": "ipython3",
   "version": "3.7.3"
  }
 },
 "nbformat": 4,
 "nbformat_minor": 4
}
