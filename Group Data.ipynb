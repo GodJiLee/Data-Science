{
 "cells": [
  {
   "cell_type": "markdown",
   "metadata": {},
   "source": [
    "### Group Data"
   ]
  },
  {
   "cell_type": "code",
   "execution_count": null,
   "metadata": {},
   "outputs": [],
   "source": [
    "#같은 카테고리의 데이터끼리 모아서 연산 \n",
    "#최소값, 최대값 등 그룹화 할 수 있음\n",
    "import pandas as pd\n",
    "import seaborn as sns"
   ]
  },
  {
   "cell_type": "code",
   "execution_count": null,
   "metadata": {},
   "outputs": [],
   "source": [
    "df = sns.load_dataset(\"mpg\")\n",
    "df.head(3)"
   ]
  },
  {
   "cell_type": "code",
   "execution_count": null,
   "metadata": {},
   "outputs": [],
   "source": [
    "df.groupby(by = \"origin\")['cylinders'].size()\n",
    "#group by 명령어 뒤엔 aggregation 함수를 붙여야 함\n",
    "#group by의 장점은 좀 더 다양한 function을 활용할 수 있다는 것 (최소값, 최대값 등)\n",
    "#특정 column 값만 지정해서 볼 수도 있음"
   ]
  },
  {
   "cell_type": "code",
   "execution_count": null,
   "metadata": {},
   "outputs": [],
   "source": [
    "#origin의 또다른 size측정법\n",
    "df[\"origin\"].value_counts()"
   ]
  },
  {
   "cell_type": "code",
   "execution_count": null,
   "metadata": {},
   "outputs": [],
   "source": [
    "df.pivot_table?\n",
    "#판다스 치트시트에는 나와있지 않는 내용\n",
    "#group화된 계산 가능"
   ]
  },
  {
   "cell_type": "code",
   "execution_count": null,
   "metadata": {},
   "outputs": [],
   "source": [
    "pd.DataFrame(df.groupby(['model_year', 'origin'])['cylinders'].mean())\n",
    "#파라미터는 그냥 가져와서 쓰면 됨 (암기 x)\n",
    "#데이터프레임으로 묶어주기"
   ]
  },
  {
   "cell_type": "code",
   "execution_count": null,
   "metadata": {},
   "outputs": [],
   "source": [
    "df.groupby?"
   ]
  },
  {
   "cell_type": "code",
   "execution_count": null,
   "metadata": {},
   "outputs": [],
   "source": [
    "df2 = pd.DataFrame(\n",
    "[[4, 7, 10],\n",
    "[5, 11, 8],\n",
    "[6, 9, 12]],\n",
    "index=[1, 2, 3],\n",
    "columns=['a', 'b', 'c'])"
   ]
  },
  {
   "cell_type": "code",
   "execution_count": null,
   "metadata": {},
   "outputs": [],
   "source": [
    "df2"
   ]
  },
  {
   "cell_type": "code",
   "execution_count": null,
   "metadata": {},
   "outputs": [],
   "source": [
    "df2['b'].shift(2)\n",
    "#row가 하나씩 아래로 이동됨\n",
    "#소수점으로 바뀌어서 표시됨\n",
    "#shift(-1)은 위로 하나씩 이동됨\n",
    "#특정 column만 옮길 수도 있음\n",
    "#결측치가 포함된 데이터에 유용하게 쓸 수 있음"
   ]
  },
  {
   "cell_type": "code",
   "execution_count": null,
   "metadata": {},
   "outputs": [],
   "source": [
    "df['model_year'].rank(method = 'max').value_counts()\n",
    "#밀집도의 순위를 보여줌 (method = 'dense')\n",
    "#1.0 -> 첫번째\n",
    "#value_counts()는 그룹화된 값에 대한 순위를 보여줌"
   ]
  },
  {
   "cell_type": "code",
   "execution_count": null,
   "metadata": {},
   "outputs": [],
   "source": [
    "df[\"model_year\"].rank(pct = True).head()\n",
    "#pct = percentage (비율을 보여줌)"
   ]
  },
  {
   "cell_type": "code",
   "execution_count": null,
   "metadata": {},
   "outputs": [],
   "source": [
    "df[\"model_year\"].rank(method='first').head()\n",
    "#이 데이터에서 method = 'last'는 존재하지 않음 \n",
    "#같은 값은 같은 순위에 있게 됨"
   ]
  },
  {
   "cell_type": "code",
   "execution_count": null,
   "metadata": {},
   "outputs": [],
   "source": [
    "df2"
   ]
  },
  {
   "cell_type": "code",
   "execution_count": null,
   "metadata": {},
   "outputs": [],
   "source": [
    "df2.cumsum()\n",
    "#cumulative sum\n",
    "#이전 행과 누적해서 더해줌"
   ]
  },
  {
   "cell_type": "code",
   "execution_count": null,
   "metadata": {},
   "outputs": [],
   "source": [
    "df2.cummax()\n",
    "#위 행의 값이 그 열에서 최대값이라면 그 이후는 모두 통일"
   ]
  },
  {
   "cell_type": "code",
   "execution_count": null,
   "metadata": {},
   "outputs": [],
   "source": [
    "df2.cummin()\n",
    "#위 행이 그 열에서 최솟값이라면 그 이후로는 모두 통일"
   ]
  },
  {
   "cell_type": "code",
   "execution_count": null,
   "metadata": {},
   "outputs": [],
   "source": [
    "df2.cumprod()\n",
    "#comulative product (누적 곱)"
   ]
  }
 ],
 "metadata": {
  "kernelspec": {
   "display_name": "Python 3",
   "language": "python",
   "name": "python3"
  },
  "language_info": {
   "codemirror_mode": {
    "name": "ipython",
    "version": 3
   },
   "file_extension": ".py",
   "mimetype": "text/x-python",
   "name": "python",
   "nbconvert_exporter": "python",
   "pygments_lexer": "ipython3",
   "version": "3.7.3"
  }
 },
 "nbformat": 4,
 "nbformat_minor": 4
}
