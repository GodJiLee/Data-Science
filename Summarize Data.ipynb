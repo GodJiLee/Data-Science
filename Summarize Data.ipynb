{
 "cells": [
  {
   "cell_type": "code",
   "execution_count": null,
   "metadata": {},
   "outputs": [],
   "source": [
    "import pandas as pd\n",
    "import numpy as np\n",
    "import seaborn as sns #활용할 데이터셋을 불러옴"
   ]
  },
  {
   "cell_type": "code",
   "execution_count": null,
   "metadata": {},
   "outputs": [],
   "source": [
    "df = sns.load_dataset('iris')\n",
    "df.shape #행은 몇 개이고 열은 몇 개인지 미리보기"
   ]
  },
  {
   "cell_type": "code",
   "execution_count": null,
   "metadata": {},
   "outputs": [],
   "source": [
    "df.head(3)"
   ]
  },
  {
   "cell_type": "code",
   "execution_count": null,
   "metadata": {},
   "outputs": [],
   "source": [
    "df['species'].value_counts()\n",
    "#각각의 꽃의 종류별로 50개씩 있다\n"
   ]
  },
  {
   "cell_type": "code",
   "execution_count": null,
   "metadata": {},
   "outputs": [],
   "source": [
    "df['petal_length'].value_counts()\n",
    "#숫자 데이터 카테고리화 #어떤 값이 몇 개씩 들어있는지"
   ]
  },
  {
   "cell_type": "code",
   "execution_count": null,
   "metadata": {},
   "outputs": [],
   "source": [
    "pd.DataFrame(df['species'].value_counts())\n",
    "#데이터프레임으로 만들어 줌 (정리해서 보고 싶을 때)"
   ]
  },
  {
   "cell_type": "code",
   "execution_count": null,
   "metadata": {},
   "outputs": [],
   "source": [
    "len(df)\n",
    "#데이터프레임의 row가 몇 개인지 세어줌"
   ]
  },
  {
   "cell_type": "code",
   "execution_count": null,
   "metadata": {},
   "outputs": [],
   "source": [
    "df.shape[0] #len(df) == df.shape[0] -> True"
   ]
  },
  {
   "cell_type": "code",
   "execution_count": null,
   "metadata": {},
   "outputs": [],
   "source": [
    "df['species'].nunique()\n",
    "#distinct value인 column의 distict한 개수를 세어줌\n",
    "#setosa, virginica, versicolor로 3개임 "
   ]
  },
  {
   "cell_type": "code",
   "execution_count": null,
   "metadata": {},
   "outputs": [],
   "source": [
    "df['sepal_length'].nunique()"
   ]
  },
  {
   "cell_type": "code",
   "execution_count": null,
   "metadata": {},
   "outputs": [],
   "source": [
    "df.describe(include = 'all')\n",
    "#include='all'은 데이터유형에 상관없이 모든 값을 가져옴\n",
    "#기본적인 df의 통계적 수치를 보여줌\n",
    "#수치형 데이터에 대한 통계값 (species는 표시 x)\n",
    "#top 에는 가장 빈도수 있게 등장하는 종류를 표시해줌 "
   ]
  },
  {
   "cell_type": "code",
   "execution_count": null,
   "metadata": {},
   "outputs": [],
   "source": [
    "df.describe(include = [np.object])\n",
    "#np.number -> 숫자형 데이터만 보고 싶을 때 \n",
    "#exclude -> 특정 데이터 타입은 제외하고 보고 싶을 때"
   ]
  },
  {
   "cell_type": "code",
   "execution_count": null,
   "metadata": {},
   "outputs": [],
   "source": [
    "df.describe(include = [np.number])\n",
    "#count 데이터 몇 개 있는지\n",
    "#평균, 표준편차, 최솟값, 4분위수, 최대값 보여줌"
   ]
  },
  {
   "cell_type": "code",
   "execution_count": null,
   "metadata": {},
   "outputs": [],
   "source": [
    "'''\n",
    "sum()\n",
    "Sum values of each object.\n",
    "count()\n",
    "Count non-NA/null values of\n",
    "each object.\n",
    "median()\n",
    "Median value of each object.\n",
    "quantile([0.25,0.75])\n",
    "Quantiles of each object.\n",
    "apply(function)\n",
    "Apply function to each object.\n",
    "min()\n",
    "Minimum value in each object.\n",
    "max()\n",
    "Maximum value in each object.\n",
    "mean()\n",
    "Mean value of each object.\n",
    "var()\n",
    "Variance of each object.\n",
    "std()\n",
    "Standard deviation of each object.\n",
    "'''"
   ]
  },
  {
   "cell_type": "code",
   "execution_count": null,
   "metadata": {},
   "outputs": [],
   "source": [
    "df['petal_width'].sum()\n",
    "#전체 값의 합을 보여줌"
   ]
  },
  {
   "cell_type": "code",
   "execution_count": null,
   "metadata": {},
   "outputs": [],
   "source": [
    "df['petal_width'].count()\n",
    "#전체 변수의 개수"
   ]
  },
  {
   "cell_type": "code",
   "execution_count": null,
   "metadata": {},
   "outputs": [],
   "source": [
    "df.median()\n",
    "#중간값"
   ]
  },
  {
   "cell_type": "code",
   "execution_count": null,
   "metadata": {},
   "outputs": [],
   "source": [
    "df['sepal_length'].mean()\n",
    "#평균값"
   ]
  },
  {
   "cell_type": "code",
   "execution_count": null,
   "metadata": {},
   "outputs": [],
   "source": [
    "df.quantile([0.25, 0.75])\n",
    "#4분위수\n",
    "#컬럼 ['petal_width']를 지정하지 않으면 숫자형 데이터를 모두 보여줌"
   ]
  },
  {
   "cell_type": "code",
   "execution_count": null,
   "metadata": {},
   "outputs": [],
   "source": [
    "df.min()\n",
    "#각 column의 최솟값을 보여줌"
   ]
  },
  {
   "cell_type": "code",
   "execution_count": null,
   "metadata": {},
   "outputs": [],
   "source": [
    "df.max()\n",
    "#각 column의 최댓값을 보여줌"
   ]
  },
  {
   "cell_type": "code",
   "execution_count": null,
   "metadata": {},
   "outputs": [],
   "source": [
    "df.var()\n",
    "#각 column의 분산"
   ]
  },
  {
   "cell_type": "code",
   "execution_count": null,
   "metadata": {},
   "outputs": [],
   "source": [
    "df.std()\n",
    "#각 column의 표준편차"
   ]
  },
  {
   "cell_type": "code",
   "execution_count": null,
   "metadata": {},
   "outputs": [],
   "source": [
    "### apply(function)"
   ]
  },
  {
   "cell_type": "code",
   "execution_count": null,
   "metadata": {},
   "outputs": [],
   "source": [
    "def smp(x):\n",
    "    #뒤에서 3번째까지의 문자를 가져옴\n",
    "    x = x[-3:]\n",
    "    return x\n",
    "#smp는 sample을 나타냄"
   ]
  },
  {
   "cell_type": "code",
   "execution_count": null,
   "metadata": {},
   "outputs": [],
   "source": [
    "df['species_3'] = df['species'].apply(lambda x : x[:10])\n",
    "#익명값을 지정해줄 수 있음\n",
    "#통계적 수치를 사용하거나 데이터 전처리에 많이 이용됨\n",
    "#데이터 전처리에 많이 사용됨\n",
    "#몇 번째 값을 가져올 건지 x[]안에 넣어주면 됨\n",
    "#특정 column만을 가져올 수도 있음"
   ]
  },
  {
   "cell_type": "code",
   "execution_count": null,
   "metadata": {},
   "outputs": [],
   "source": [
    "df['species-3'] = df['species'].apply(smp)\n",
    "#익명함수 사용한 결과"
   ]
  },
  {
   "cell_type": "code",
   "execution_count": null,
   "metadata": {},
   "outputs": [],
   "source": [
    "df\n",
    "#column이 하나 더 생겼는데 조건대로 3글자만 가져옴"
   ]
  }
 ],
 "metadata": {
  "kernelspec": {
   "display_name": "Python 3",
   "language": "python",
   "name": "python3"
  },
  "language_info": {
   "codemirror_mode": {
    "name": "ipython",
    "version": 3
   },
   "file_extension": ".py",
   "mimetype": "text/x-python",
   "name": "python",
   "nbconvert_exporter": "python",
   "pygments_lexer": "ipython3",
   "version": "3.7.3"
  }
 },
 "nbformat": 4,
 "nbformat_minor": 4
}
